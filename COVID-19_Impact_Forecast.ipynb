{
 "cells": [
  {
   "cell_type": "markdown",
   "id": "440a3865",
   "metadata": {},
   "source": [
    "COVID 19 impact forecast across India"
   ]
  },
  {
   "cell_type": "markdown",
   "id": "03d4e0e0",
   "metadata": {},
   "source": [
    "Importing libraries"
   ]
  },
  {
   "cell_type": "code",
   "execution_count": 1,
   "id": "d8c86a56",
   "metadata": {},
   "outputs": [
    {
     "name": "stderr",
     "output_type": "stream",
     "text": [
      "C:\\Users\\mrsur\\anaconda3\\lib\\site-packages\\statsmodels\\tsa\\base\\tsa_model.py:7: FutureWarning: pandas.Int64Index is deprecated and will be removed from pandas in a future version. Use pandas.Index with the appropriate dtype instead.\n",
      "  from pandas import (to_datetime, Int64Index, DatetimeIndex, Period,\n",
      "C:\\Users\\mrsur\\anaconda3\\lib\\site-packages\\statsmodels\\tsa\\base\\tsa_model.py:7: FutureWarning: pandas.Float64Index is deprecated and will be removed from pandas in a future version. Use pandas.Index with the appropriate dtype instead.\n",
      "  from pandas import (to_datetime, Int64Index, DatetimeIndex, Period,\n"
     ]
    }
   ],
   "source": [
    "import datetime\n",
    "from datetime import timedelta\n",
    "import pandas as pd\n",
    "import numpy as np\n",
    "import fbprophet\n",
    "import matplotlib.pyplot as plt\n",
    "import seaborn as sns\n",
    "\n",
    "from sklearn import metrics\n",
    "from sklearn.metrics import r2_score\n",
    "\n",
    "from statsmodels.tsa.stattools import adfuller\n",
    "from statsmodels.tsa.seasonal import seasonal_decompose\n",
    "from pandas.plotting import register_matplotlib_converters\n",
    "register_matplotlib_converters()"
   ]
  },
  {
   "cell_type": "markdown",
   "id": "443b3ef9",
   "metadata": {},
   "source": [
    "Importing dataset"
   ]
  },
  {
   "cell_type": "code",
   "execution_count": 2,
   "id": "91fa5f22",
   "metadata": {},
   "outputs": [
    {
     "data": {
      "text/html": [
       "<div>\n",
       "<style scoped>\n",
       "    .dataframe tbody tr th:only-of-type {\n",
       "        vertical-align: middle;\n",
       "    }\n",
       "\n",
       "    .dataframe tbody tr th {\n",
       "        vertical-align: top;\n",
       "    }\n",
       "\n",
       "    .dataframe thead th {\n",
       "        text-align: right;\n",
       "    }\n",
       "</style>\n",
       "<table border=\"1\" class=\"dataframe\">\n",
       "  <thead>\n",
       "    <tr style=\"text-align: right;\">\n",
       "      <th></th>\n",
       "      <th>Date</th>\n",
       "      <th>State</th>\n",
       "      <th>District</th>\n",
       "      <th>Confirmed</th>\n",
       "      <th>Recovered</th>\n",
       "      <th>Deceased</th>\n",
       "    </tr>\n",
       "  </thead>\n",
       "  <tbody>\n",
       "    <tr>\n",
       "      <th>0</th>\n",
       "      <td>2020-04-26</td>\n",
       "      <td>Andaman and Nicobar Islands</td>\n",
       "      <td>Unknown</td>\n",
       "      <td>33</td>\n",
       "      <td>11</td>\n",
       "      <td>0</td>\n",
       "    </tr>\n",
       "    <tr>\n",
       "      <th>1</th>\n",
       "      <td>2020-04-26</td>\n",
       "      <td>Andhra Pradesh</td>\n",
       "      <td>Anantapur</td>\n",
       "      <td>53</td>\n",
       "      <td>14</td>\n",
       "      <td>4</td>\n",
       "    </tr>\n",
       "    <tr>\n",
       "      <th>2</th>\n",
       "      <td>2020-04-26</td>\n",
       "      <td>Andhra Pradesh</td>\n",
       "      <td>Chittoor</td>\n",
       "      <td>73</td>\n",
       "      <td>13</td>\n",
       "      <td>0</td>\n",
       "    </tr>\n",
       "    <tr>\n",
       "      <th>3</th>\n",
       "      <td>2020-04-26</td>\n",
       "      <td>Andhra Pradesh</td>\n",
       "      <td>East Godavari</td>\n",
       "      <td>39</td>\n",
       "      <td>12</td>\n",
       "      <td>0</td>\n",
       "    </tr>\n",
       "    <tr>\n",
       "      <th>4</th>\n",
       "      <td>2020-04-26</td>\n",
       "      <td>Andhra Pradesh</td>\n",
       "      <td>Guntur</td>\n",
       "      <td>214</td>\n",
       "      <td>29</td>\n",
       "      <td>8</td>\n",
       "    </tr>\n",
       "    <tr>\n",
       "      <th>...</th>\n",
       "      <td>...</td>\n",
       "      <td>...</td>\n",
       "      <td>...</td>\n",
       "      <td>...</td>\n",
       "      <td>...</td>\n",
       "      <td>...</td>\n",
       "    </tr>\n",
       "    <tr>\n",
       "      <th>358628</th>\n",
       "      <td>2021-10-31</td>\n",
       "      <td>West Bengal</td>\n",
       "      <td>Purba Bardhaman</td>\n",
       "      <td>42005</td>\n",
       "      <td>41588</td>\n",
       "      <td>198</td>\n",
       "    </tr>\n",
       "    <tr>\n",
       "      <th>358629</th>\n",
       "      <td>2021-10-31</td>\n",
       "      <td>West Bengal</td>\n",
       "      <td>Purba Medinipur</td>\n",
       "      <td>63098</td>\n",
       "      <td>62549</td>\n",
       "      <td>397</td>\n",
       "    </tr>\n",
       "    <tr>\n",
       "      <th>358630</th>\n",
       "      <td>2021-10-31</td>\n",
       "      <td>West Bengal</td>\n",
       "      <td>Purulia</td>\n",
       "      <td>19419</td>\n",
       "      <td>19283</td>\n",
       "      <td>113</td>\n",
       "    </tr>\n",
       "    <tr>\n",
       "      <th>358631</th>\n",
       "      <td>2021-10-31</td>\n",
       "      <td>West Bengal</td>\n",
       "      <td>South 24 Parganas</td>\n",
       "      <td>100957</td>\n",
       "      <td>98950</td>\n",
       "      <td>1336</td>\n",
       "    </tr>\n",
       "    <tr>\n",
       "      <th>358632</th>\n",
       "      <td>2021-10-31</td>\n",
       "      <td>West Bengal</td>\n",
       "      <td>Uttar Dinajpur</td>\n",
       "      <td>19858</td>\n",
       "      <td>19559</td>\n",
       "      <td>238</td>\n",
       "    </tr>\n",
       "  </tbody>\n",
       "</table>\n",
       "<p>358633 rows × 6 columns</p>\n",
       "</div>"
      ],
      "text/plain": [
       "              Date                        State           District  Confirmed  \\\n",
       "0       2020-04-26  Andaman and Nicobar Islands            Unknown         33   \n",
       "1       2020-04-26               Andhra Pradesh          Anantapur         53   \n",
       "2       2020-04-26               Andhra Pradesh           Chittoor         73   \n",
       "3       2020-04-26               Andhra Pradesh      East Godavari         39   \n",
       "4       2020-04-26               Andhra Pradesh             Guntur        214   \n",
       "...            ...                          ...                ...        ...   \n",
       "358628  2021-10-31                  West Bengal    Purba Bardhaman      42005   \n",
       "358629  2021-10-31                  West Bengal    Purba Medinipur      63098   \n",
       "358630  2021-10-31                  West Bengal            Purulia      19419   \n",
       "358631  2021-10-31                  West Bengal  South 24 Parganas     100957   \n",
       "358632  2021-10-31                  West Bengal     Uttar Dinajpur      19858   \n",
       "\n",
       "        Recovered  Deceased  \n",
       "0              11         0  \n",
       "1              14         4  \n",
       "2              13         0  \n",
       "3              12         0  \n",
       "4              29         8  \n",
       "...           ...       ...  \n",
       "358628      41588       198  \n",
       "358629      62549       397  \n",
       "358630      19283       113  \n",
       "358631      98950      1336  \n",
       "358632      19559       238  \n",
       "\n",
       "[358633 rows x 6 columns]"
      ]
     },
     "execution_count": 2,
     "metadata": {},
     "output_type": "execute_result"
    }
   ],
   "source": [
    "data1 = pd.read_csv(\"https://data.covid19india.org/csv/latest/districts.csv\")\n",
    "data1 = data1.drop(['Other','Tested'],axis=1)\n",
    "data1"
   ]
  },
  {
   "cell_type": "markdown",
   "id": "e2cec633",
   "metadata": {},
   "source": [
    "Sorting data datewise and by each district of each state"
   ]
  },
  {
   "cell_type": "code",
   "execution_count": 3,
   "id": "cbea8868",
   "metadata": {},
   "outputs": [
    {
     "data": {
      "text/html": [
       "<div>\n",
       "<style scoped>\n",
       "    .dataframe tbody tr th:only-of-type {\n",
       "        vertical-align: middle;\n",
       "    }\n",
       "\n",
       "    .dataframe tbody tr th {\n",
       "        vertical-align: top;\n",
       "    }\n",
       "\n",
       "    .dataframe thead th {\n",
       "        text-align: right;\n",
       "    }\n",
       "</style>\n",
       "<table border=\"1\" class=\"dataframe\">\n",
       "  <thead>\n",
       "    <tr style=\"text-align: right;\">\n",
       "      <th></th>\n",
       "      <th>Date</th>\n",
       "      <th>State</th>\n",
       "      <th>District</th>\n",
       "      <th>Confirmed</th>\n",
       "      <th>Recovered</th>\n",
       "      <th>Deceased</th>\n",
       "    </tr>\n",
       "  </thead>\n",
       "  <tbody>\n",
       "    <tr>\n",
       "      <th>0</th>\n",
       "      <td>2020-04-26</td>\n",
       "      <td>Andaman and Nicobar Islands</td>\n",
       "      <td>Unknown</td>\n",
       "      <td>33</td>\n",
       "      <td>11</td>\n",
       "      <td>0</td>\n",
       "    </tr>\n",
       "    <tr>\n",
       "      <th>408</th>\n",
       "      <td>2020-04-27</td>\n",
       "      <td>Andaman and Nicobar Islands</td>\n",
       "      <td>Unknown</td>\n",
       "      <td>33</td>\n",
       "      <td>11</td>\n",
       "      <td>0</td>\n",
       "    </tr>\n",
       "    <tr>\n",
       "      <th>828</th>\n",
       "      <td>2020-04-28</td>\n",
       "      <td>Andaman and Nicobar Islands</td>\n",
       "      <td>Unknown</td>\n",
       "      <td>33</td>\n",
       "      <td>15</td>\n",
       "      <td>0</td>\n",
       "    </tr>\n",
       "    <tr>\n",
       "      <th>1256</th>\n",
       "      <td>2020-04-29</td>\n",
       "      <td>Andaman and Nicobar Islands</td>\n",
       "      <td>Unknown</td>\n",
       "      <td>33</td>\n",
       "      <td>15</td>\n",
       "      <td>0</td>\n",
       "    </tr>\n",
       "    <tr>\n",
       "      <th>1689</th>\n",
       "      <td>2020-04-30</td>\n",
       "      <td>Andaman and Nicobar Islands</td>\n",
       "      <td>Unknown</td>\n",
       "      <td>33</td>\n",
       "      <td>16</td>\n",
       "      <td>0</td>\n",
       "    </tr>\n",
       "    <tr>\n",
       "      <th>...</th>\n",
       "      <td>...</td>\n",
       "      <td>...</td>\n",
       "      <td>...</td>\n",
       "      <td>...</td>\n",
       "      <td>...</td>\n",
       "      <td>...</td>\n",
       "    </tr>\n",
       "    <tr>\n",
       "      <th>355995</th>\n",
       "      <td>2021-10-27</td>\n",
       "      <td>West Bengal</td>\n",
       "      <td>Uttar Dinajpur</td>\n",
       "      <td>19829</td>\n",
       "      <td>19532</td>\n",
       "      <td>236</td>\n",
       "    </tr>\n",
       "    <tr>\n",
       "      <th>356655</th>\n",
       "      <td>2021-10-28</td>\n",
       "      <td>West Bengal</td>\n",
       "      <td>Uttar Dinajpur</td>\n",
       "      <td>19841</td>\n",
       "      <td>19538</td>\n",
       "      <td>237</td>\n",
       "    </tr>\n",
       "    <tr>\n",
       "      <th>357314</th>\n",
       "      <td>2021-10-29</td>\n",
       "      <td>West Bengal</td>\n",
       "      <td>Uttar Dinajpur</td>\n",
       "      <td>19847</td>\n",
       "      <td>19545</td>\n",
       "      <td>238</td>\n",
       "    </tr>\n",
       "    <tr>\n",
       "      <th>357973</th>\n",
       "      <td>2021-10-30</td>\n",
       "      <td>West Bengal</td>\n",
       "      <td>Uttar Dinajpur</td>\n",
       "      <td>19850</td>\n",
       "      <td>19552</td>\n",
       "      <td>238</td>\n",
       "    </tr>\n",
       "    <tr>\n",
       "      <th>358632</th>\n",
       "      <td>2021-10-31</td>\n",
       "      <td>West Bengal</td>\n",
       "      <td>Uttar Dinajpur</td>\n",
       "      <td>19858</td>\n",
       "      <td>19559</td>\n",
       "      <td>238</td>\n",
       "    </tr>\n",
       "  </tbody>\n",
       "</table>\n",
       "<p>358633 rows × 6 columns</p>\n",
       "</div>"
      ],
      "text/plain": [
       "             Date                        State        District  Confirmed  \\\n",
       "0      2020-04-26  Andaman and Nicobar Islands         Unknown         33   \n",
       "408    2020-04-27  Andaman and Nicobar Islands         Unknown         33   \n",
       "828    2020-04-28  Andaman and Nicobar Islands         Unknown         33   \n",
       "1256   2020-04-29  Andaman and Nicobar Islands         Unknown         33   \n",
       "1689   2020-04-30  Andaman and Nicobar Islands         Unknown         33   \n",
       "...           ...                          ...             ...        ...   \n",
       "355995 2021-10-27                  West Bengal  Uttar Dinajpur      19829   \n",
       "356655 2021-10-28                  West Bengal  Uttar Dinajpur      19841   \n",
       "357314 2021-10-29                  West Bengal  Uttar Dinajpur      19847   \n",
       "357973 2021-10-30                  West Bengal  Uttar Dinajpur      19850   \n",
       "358632 2021-10-31                  West Bengal  Uttar Dinajpur      19858   \n",
       "\n",
       "        Recovered  Deceased  \n",
       "0              11         0  \n",
       "408            11         0  \n",
       "828            15         0  \n",
       "1256           15         0  \n",
       "1689           16         0  \n",
       "...           ...       ...  \n",
       "355995      19532       236  \n",
       "356655      19538       237  \n",
       "357314      19545       238  \n",
       "357973      19552       238  \n",
       "358632      19559       238  \n",
       "\n",
       "[358633 rows x 6 columns]"
      ]
     },
     "execution_count": 3,
     "metadata": {},
     "output_type": "execute_result"
    }
   ],
   "source": [
    "data1['Date'] = pd.to_datetime(data1['Date'])\n",
    "data1 = data1.sort_values(by=['State','District','Date'],inplace=False)\n",
    "data1"
   ]
  },
  {
   "cell_type": "markdown",
   "id": "66148301",
   "metadata": {},
   "source": [
    "Time series data grouped by date for whole of India"
   ]
  },
  {
   "cell_type": "code",
   "execution_count": 4,
   "id": "e27604ad",
   "metadata": {},
   "outputs": [
    {
     "data": {
      "text/html": [
       "<div>\n",
       "<style scoped>\n",
       "    .dataframe tbody tr th:only-of-type {\n",
       "        vertical-align: middle;\n",
       "    }\n",
       "\n",
       "    .dataframe tbody tr th {\n",
       "        vertical-align: top;\n",
       "    }\n",
       "\n",
       "    .dataframe thead th {\n",
       "        text-align: right;\n",
       "    }\n",
       "</style>\n",
       "<table border=\"1\" class=\"dataframe\">\n",
       "  <thead>\n",
       "    <tr style=\"text-align: right;\">\n",
       "      <th></th>\n",
       "      <th>Date</th>\n",
       "      <th>Confirmed</th>\n",
       "      <th>Recovered</th>\n",
       "      <th>Deceased</th>\n",
       "    </tr>\n",
       "  </thead>\n",
       "  <tbody>\n",
       "    <tr>\n",
       "      <th>0</th>\n",
       "      <td>2020-04-26</td>\n",
       "      <td>27890</td>\n",
       "      <td>6523</td>\n",
       "      <td>881</td>\n",
       "    </tr>\n",
       "    <tr>\n",
       "      <th>1</th>\n",
       "      <td>2020-04-27</td>\n",
       "      <td>29458</td>\n",
       "      <td>7103</td>\n",
       "      <td>939</td>\n",
       "    </tr>\n",
       "    <tr>\n",
       "      <th>2</th>\n",
       "      <td>2020-04-28</td>\n",
       "      <td>31360</td>\n",
       "      <td>7739</td>\n",
       "      <td>1008</td>\n",
       "    </tr>\n",
       "    <tr>\n",
       "      <th>3</th>\n",
       "      <td>2020-04-29</td>\n",
       "      <td>33065</td>\n",
       "      <td>8429</td>\n",
       "      <td>1079</td>\n",
       "    </tr>\n",
       "    <tr>\n",
       "      <th>4</th>\n",
       "      <td>2020-04-30</td>\n",
       "      <td>34867</td>\n",
       "      <td>9059</td>\n",
       "      <td>1154</td>\n",
       "    </tr>\n",
       "    <tr>\n",
       "      <th>...</th>\n",
       "      <td>...</td>\n",
       "      <td>...</td>\n",
       "      <td>...</td>\n",
       "      <td>...</td>\n",
       "    </tr>\n",
       "    <tr>\n",
       "      <th>549</th>\n",
       "      <td>2021-10-27</td>\n",
       "      <td>34231243</td>\n",
       "      <td>33606777</td>\n",
       "      <td>456418</td>\n",
       "    </tr>\n",
       "    <tr>\n",
       "      <th>550</th>\n",
       "      <td>2021-10-28</td>\n",
       "      <td>34245550</td>\n",
       "      <td>33619966</td>\n",
       "      <td>457223</td>\n",
       "    </tr>\n",
       "    <tr>\n",
       "      <th>551</th>\n",
       "      <td>2021-10-29</td>\n",
       "      <td>34259765</td>\n",
       "      <td>33633515</td>\n",
       "      <td>457774</td>\n",
       "    </tr>\n",
       "    <tr>\n",
       "      <th>552</th>\n",
       "      <td>2021-10-30</td>\n",
       "      <td>34272705</td>\n",
       "      <td>33648187</td>\n",
       "      <td>458219</td>\n",
       "    </tr>\n",
       "    <tr>\n",
       "      <th>553</th>\n",
       "      <td>2021-10-31</td>\n",
       "      <td>34285612</td>\n",
       "      <td>33661339</td>\n",
       "      <td>458470</td>\n",
       "    </tr>\n",
       "  </tbody>\n",
       "</table>\n",
       "<p>554 rows × 4 columns</p>\n",
       "</div>"
      ],
      "text/plain": [
       "          Date  Confirmed  Recovered  Deceased\n",
       "0   2020-04-26      27890       6523       881\n",
       "1   2020-04-27      29458       7103       939\n",
       "2   2020-04-28      31360       7739      1008\n",
       "3   2020-04-29      33065       8429      1079\n",
       "4   2020-04-30      34867       9059      1154\n",
       "..         ...        ...        ...       ...\n",
       "549 2021-10-27   34231243   33606777    456418\n",
       "550 2021-10-28   34245550   33619966    457223\n",
       "551 2021-10-29   34259765   33633515    457774\n",
       "552 2021-10-30   34272705   33648187    458219\n",
       "553 2021-10-31   34285612   33661339    458470\n",
       "\n",
       "[554 rows x 4 columns]"
      ]
     },
     "execution_count": 4,
     "metadata": {},
     "output_type": "execute_result"
    }
   ],
   "source": [
    "data2 = data1.groupby(['Date'],as_index=False).sum()\n",
    "data2"
   ]
  },
  {
   "cell_type": "markdown",
   "id": "9ea6f13f",
   "metadata": {},
   "source": [
    "Finding maximum value of confirmed cases to assess the risk"
   ]
  },
  {
   "cell_type": "code",
   "execution_count": 5,
   "id": "e761b785",
   "metadata": {},
   "outputs": [
    {
     "data": {
      "text/plain": [
       "34285612"
      ]
     },
     "execution_count": 5,
     "metadata": {},
     "output_type": "execute_result"
    }
   ],
   "source": [
    "maximum = data2[\"Confirmed\"].max()\n",
    "maximum"
   ]
  },
  {
   "cell_type": "code",
   "execution_count": 6,
   "id": "e8540f30",
   "metadata": {},
   "outputs": [
    {
     "data": {
      "text/html": [
       "<div>\n",
       "<style scoped>\n",
       "    .dataframe tbody tr th:only-of-type {\n",
       "        vertical-align: middle;\n",
       "    }\n",
       "\n",
       "    .dataframe tbody tr th {\n",
       "        vertical-align: top;\n",
       "    }\n",
       "\n",
       "    .dataframe thead th {\n",
       "        text-align: right;\n",
       "    }\n",
       "</style>\n",
       "<table border=\"1\" class=\"dataframe\">\n",
       "  <thead>\n",
       "    <tr style=\"text-align: right;\">\n",
       "      <th></th>\n",
       "      <th>Date</th>\n",
       "      <th>Confirmed</th>\n",
       "      <th>Recovered</th>\n",
       "      <th>Deceased</th>\n",
       "    </tr>\n",
       "  </thead>\n",
       "  <tbody>\n",
       "    <tr>\n",
       "      <th>553</th>\n",
       "      <td>2021-10-31</td>\n",
       "      <td>34285612</td>\n",
       "      <td>33661339</td>\n",
       "      <td>458470</td>\n",
       "    </tr>\n",
       "  </tbody>\n",
       "</table>\n",
       "</div>"
      ],
      "text/plain": [
       "          Date  Confirmed  Recovered  Deceased\n",
       "553 2021-10-31   34285612   33661339    458470"
      ]
     },
     "execution_count": 6,
     "metadata": {},
     "output_type": "execute_result"
    }
   ],
   "source": [
    "data2[data2[\"Confirmed\"] == data2[\"Confirmed\"].max()]"
   ]
  },
  {
   "cell_type": "markdown",
   "id": "30b7594d",
   "metadata": {},
   "source": [
    "Plotting the data"
   ]
  },
  {
   "cell_type": "code",
   "execution_count": 7,
   "id": "001896dd",
   "metadata": {},
   "outputs": [
    {
     "data": {
      "image/png": "[encoded data removed]",
      "text/plain": [
       "<Figure size 2000x500 with 1 Axes>"
      ]
     },
     "metadata": {
      "needs_background": "light"
     },
     "output_type": "display_data"
    }
   ],
   "source": [
    "fig = plt.figure(figsize=(20,5),dpi=100)\n",
    "plt.title(\"Confirmed COVID cases\")\n",
    "sns.lineplot(data=data2, x= 'Date', y = 'Confirmed')\n",
    "plt.xticks(rotation=45,fontsize=10);"
   ]
  },
  {
   "cell_type": "code",
   "execution_count": 8,
   "id": "ea743c63",
   "metadata": {},
   "outputs": [
    {
     "data": {
      "image/png": "[encoded data removed]",
      "text/plain": [
       "<Figure size 2000x500 with 1 Axes>"
      ]
     },
     "metadata": {
      "needs_background": "light"
     },
     "output_type": "display_data"
    }
   ],
   "source": [
    "fig = plt.figure(figsize=(20,5),dpi=100)\n",
    "plt.title(\"Recovered patients\")\n",
    "sns.lineplot(data=data2, x= 'Date', y = 'Recovered')\n",
    "plt.xticks(rotation=45,fontsize=10);"
   ]
  },
  {
   "cell_type": "code",
   "execution_count": 9,
   "id": "dee5b4ce",
   "metadata": {},
   "outputs": [
    {
     "data": {
      "image/png": "[encoded data removed]",
      "text/plain": [
       "<Figure size 2000x500 with 1 Axes>"
      ]
     },
     "metadata": {
      "needs_background": "light"
     },
     "output_type": "display_data"
    }
   ],
   "source": [
    "fig = plt.figure(figsize=(20,5),dpi=100)\n",
    "plt.title(\"COVID fatalities\")\n",
    "sns.lineplot(data=data2, x= 'Date', y = 'Deceased')\n",
    "plt.xticks(rotation=45,fontsize=10);"
   ]
  },
  {
   "cell_type": "markdown",
   "id": "be149333",
   "metadata": {},
   "source": [
    "Getting only confirmed cases datewise (This is what we are interested in)"
   ]
  },
  {
   "cell_type": "code",
   "execution_count": 10,
   "id": "4661faef",
   "metadata": {},
   "outputs": [
    {
     "data": {
      "text/html": [
       "<div>\n",
       "<style scoped>\n",
       "    .dataframe tbody tr th:only-of-type {\n",
       "        vertical-align: middle;\n",
       "    }\n",
       "\n",
       "    .dataframe tbody tr th {\n",
       "        vertical-align: top;\n",
       "    }\n",
       "\n",
       "    .dataframe thead th {\n",
       "        text-align: right;\n",
       "    }\n",
       "</style>\n",
       "<table border=\"1\" class=\"dataframe\">\n",
       "  <thead>\n",
       "    <tr style=\"text-align: right;\">\n",
       "      <th></th>\n",
       "      <th>Date</th>\n",
       "      <th>Confirmed</th>\n",
       "    </tr>\n",
       "  </thead>\n",
       "  <tbody>\n",
       "    <tr>\n",
       "      <th>0</th>\n",
       "      <td>2020-04-26</td>\n",
       "      <td>27890</td>\n",
       "    </tr>\n",
       "    <tr>\n",
       "      <th>1</th>\n",
       "      <td>2020-04-27</td>\n",
       "      <td>29458</td>\n",
       "    </tr>\n",
       "    <tr>\n",
       "      <th>2</th>\n",
       "      <td>2020-04-28</td>\n",
       "      <td>31360</td>\n",
       "    </tr>\n",
       "    <tr>\n",
       "      <th>3</th>\n",
       "      <td>2020-04-29</td>\n",
       "      <td>33065</td>\n",
       "    </tr>\n",
       "    <tr>\n",
       "      <th>4</th>\n",
       "      <td>2020-04-30</td>\n",
       "      <td>34867</td>\n",
       "    </tr>\n",
       "    <tr>\n",
       "      <th>...</th>\n",
       "      <td>...</td>\n",
       "      <td>...</td>\n",
       "    </tr>\n",
       "    <tr>\n",
       "      <th>549</th>\n",
       "      <td>2021-10-27</td>\n",
       "      <td>34231243</td>\n",
       "    </tr>\n",
       "    <tr>\n",
       "      <th>550</th>\n",
       "      <td>2021-10-28</td>\n",
       "      <td>34245550</td>\n",
       "    </tr>\n",
       "    <tr>\n",
       "      <th>551</th>\n",
       "      <td>2021-10-29</td>\n",
       "      <td>34259765</td>\n",
       "    </tr>\n",
       "    <tr>\n",
       "      <th>552</th>\n",
       "      <td>2021-10-30</td>\n",
       "      <td>34272705</td>\n",
       "    </tr>\n",
       "    <tr>\n",
       "      <th>553</th>\n",
       "      <td>2021-10-31</td>\n",
       "      <td>34285612</td>\n",
       "    </tr>\n",
       "  </tbody>\n",
       "</table>\n",
       "<p>554 rows × 2 columns</p>\n",
       "</div>"
      ],
      "text/plain": [
       "          Date  Confirmed\n",
       "0   2020-04-26      27890\n",
       "1   2020-04-27      29458\n",
       "2   2020-04-28      31360\n",
       "3   2020-04-29      33065\n",
       "4   2020-04-30      34867\n",
       "..         ...        ...\n",
       "549 2021-10-27   34231243\n",
       "550 2021-10-28   34245550\n",
       "551 2021-10-29   34259765\n",
       "552 2021-10-30   34272705\n",
       "553 2021-10-31   34285612\n",
       "\n",
       "[554 rows x 2 columns]"
      ]
     },
     "execution_count": 10,
     "metadata": {},
     "output_type": "execute_result"
    }
   ],
   "source": [
    "data3 = data2[['Date','Confirmed']]\n",
    "data3"
   ]
  },
  {
   "cell_type": "markdown",
   "id": "cef78832",
   "metadata": {},
   "source": [
    "Checking for stationarity with rolling mean and rolling standard deviation"
   ]
  },
  {
   "cell_type": "code",
   "execution_count": 11,
   "id": "ec56dcd1",
   "metadata": {},
   "outputs": [
    {
     "data": {
      "image/png": "[encoded data removed]",
      "text/plain": [
       "<Figure size 2000x500 with 1 Axes>"
      ]
     },
     "metadata": {
      "needs_background": "light"
     },
     "output_type": "display_data"
    }
   ],
   "source": [
    "fig = plt.figure(figsize=(20,5),dpi=100)\n",
    "rolling_mean = data3['Confirmed'].rolling(window = 12).mean()\n",
    "rolling_std = data3['Confirmed'].rolling(window = 12).std()\n",
    "\n",
    "plt.plot(data3['Date'],data3['Confirmed'], color = 'blue', label = 'Original')\n",
    "plt.plot(data3['Date'],rolling_mean, color = 'red', label = 'Rolling Mean')\n",
    "plt.plot(data3['Date'],rolling_std, color = 'black', label = 'Rolling Std')\n",
    "plt.legend(loc = 'best')\n",
    "plt.title('Rolling Mean & Rolling Standard Deviation')\n",
    "plt.show()"
   ]
  },
  {
   "cell_type": "markdown",
   "id": "c41b8f59",
   "metadata": {},
   "source": [
    "Augmented Dickey-Fuller (ADF) test for stationarity "
   ]
  },
  {
   "cell_type": "code",
   "execution_count": 12,
   "id": "bc15601e",
   "metadata": {},
   "outputs": [
    {
     "name": "stdout",
     "output_type": "stream",
     "text": [
      "ADF Statistic: -0.042816189104699684\n",
      "p-value: 0.9548447054789171\n",
      "Critical Values:\n",
      "\t1%: -3.442563336759378\n",
      "\t5%: -2.866927190004947\n",
      "\t10%: -2.5696391843672695\n"
     ]
    }
   ],
   "source": [
    "result = adfuller(data3['Confirmed'],autolag = 'AIC')\n",
    "print('ADF Statistic: {}'.format(result[0]))\n",
    "print('p-value: {}'.format(result[1]))\n",
    "print('Critical Values:')\n",
    "for key, value in result[4].items():\n",
    "    print('\\t{}: {}'.format(key, value))"
   ]
  },
  {
   "cell_type": "markdown",
   "id": "d95e8e08",
   "metadata": {},
   "source": [
    "From the tests above we see the data is non stationary"
   ]
  },
  {
   "cell_type": "markdown",
   "id": "99848b2c",
   "metadata": {},
   "source": [
    "Model 1 FB Prophet"
   ]
  },
  {
   "cell_type": "code",
   "execution_count": 13,
   "id": "8b9aa265",
   "metadata": {},
   "outputs": [
    {
     "data": {
      "text/html": [
       "<div>\n",
       "<style scoped>\n",
       "    .dataframe tbody tr th:only-of-type {\n",
       "        vertical-align: middle;\n",
       "    }\n",
       "\n",
       "    .dataframe tbody tr th {\n",
       "        vertical-align: top;\n",
       "    }\n",
       "\n",
       "    .dataframe thead th {\n",
       "        text-align: right;\n",
       "    }\n",
       "</style>\n",
       "<table border=\"1\" class=\"dataframe\">\n",
       "  <thead>\n",
       "    <tr style=\"text-align: right;\">\n",
       "      <th></th>\n",
       "      <th>ds</th>\n",
       "      <th>y</th>\n",
       "    </tr>\n",
       "  </thead>\n",
       "  <tbody>\n",
       "    <tr>\n",
       "      <th>0</th>\n",
       "      <td>2020-04-26</td>\n",
       "      <td>27890</td>\n",
       "    </tr>\n",
       "    <tr>\n",
       "      <th>1</th>\n",
       "      <td>2020-04-27</td>\n",
       "      <td>29458</td>\n",
       "    </tr>\n",
       "    <tr>\n",
       "      <th>2</th>\n",
       "      <td>2020-04-28</td>\n",
       "      <td>31360</td>\n",
       "    </tr>\n",
       "    <tr>\n",
       "      <th>3</th>\n",
       "      <td>2020-04-29</td>\n",
       "      <td>33065</td>\n",
       "    </tr>\n",
       "    <tr>\n",
       "      <th>4</th>\n",
       "      <td>2020-04-30</td>\n",
       "      <td>34867</td>\n",
       "    </tr>\n",
       "    <tr>\n",
       "      <th>...</th>\n",
       "      <td>...</td>\n",
       "      <td>...</td>\n",
       "    </tr>\n",
       "    <tr>\n",
       "      <th>549</th>\n",
       "      <td>2021-10-27</td>\n",
       "      <td>34231243</td>\n",
       "    </tr>\n",
       "    <tr>\n",
       "      <th>550</th>\n",
       "      <td>2021-10-28</td>\n",
       "      <td>34245550</td>\n",
       "    </tr>\n",
       "    <tr>\n",
       "      <th>551</th>\n",
       "      <td>2021-10-29</td>\n",
       "      <td>34259765</td>\n",
       "    </tr>\n",
       "    <tr>\n",
       "      <th>552</th>\n",
       "      <td>2021-10-30</td>\n",
       "      <td>34272705</td>\n",
       "    </tr>\n",
       "    <tr>\n",
       "      <th>553</th>\n",
       "      <td>2021-10-31</td>\n",
       "      <td>34285612</td>\n",
       "    </tr>\n",
       "  </tbody>\n",
       "</table>\n",
       "<p>554 rows × 2 columns</p>\n",
       "</div>"
      ],
      "text/plain": [
       "            ds         y\n",
       "0   2020-04-26     27890\n",
       "1   2020-04-27     29458\n",
       "2   2020-04-28     31360\n",
       "3   2020-04-29     33065\n",
       "4   2020-04-30     34867\n",
       "..         ...       ...\n",
       "549 2021-10-27  34231243\n",
       "550 2021-10-28  34245550\n",
       "551 2021-10-29  34259765\n",
       "552 2021-10-30  34272705\n",
       "553 2021-10-31  34285612\n",
       "\n",
       "[554 rows x 2 columns]"
      ]
     },
     "execution_count": 13,
     "metadata": {},
     "output_type": "execute_result"
    }
   ],
   "source": [
    "data4 = data3 #Taking a copy of the dataset to make changes\n",
    "data4.columns = ['ds','y']\n",
    "data4"
   ]
  },
  {
   "cell_type": "code",
   "execution_count": 14,
   "id": "871de4a5",
   "metadata": {},
   "outputs": [],
   "source": [
    "from fbprophet import Prophet"
   ]
  },
  {
   "cell_type": "markdown",
   "id": "03aa9bc0",
   "metadata": {},
   "source": [
    "Model fitting"
   ]
  },
  {
   "cell_type": "code",
   "execution_count": 15,
   "id": "50a8cee5",
   "metadata": {},
   "outputs": [
    {
     "name": "stderr",
     "output_type": "stream",
     "text": [
      "INFO:fbprophet:Disabling yearly seasonality. Run prophet with yearly_seasonality=True to override this.\n",
      "INFO:fbprophet:Disabling daily seasonality. Run prophet with daily_seasonality=True to override this.\n",
      "C:\\Users\\mrsur\\anaconda3\\lib\\site-packages\\fbprophet\\forecaster.py:891: FutureWarning: The frame.append method is deprecated and will be removed from pandas in a future version. Use pandas.concat instead.\n",
      "  components = components.append(new_comp)\n"
     ]
    }
   ],
   "source": [
    "model = Prophet()\n",
    "fittedmodel = model.fit(data4)\n",
    "future_dates = model.make_future_dataframe(periods = 90)"
   ]
  },
  {
   "cell_type": "markdown",
   "id": "a33ac217",
   "metadata": {},
   "source": [
    "Forecasting for 3 months in the future"
   ]
  },
  {
   "cell_type": "code",
   "execution_count": 16,
   "id": "24928283",
   "metadata": {},
   "outputs": [
    {
     "name": "stderr",
     "output_type": "stream",
     "text": [
      "C:\\Users\\mrsur\\anaconda3\\lib\\site-packages\\fbprophet\\forecaster.py:891: FutureWarning: The frame.append method is deprecated and will be removed from pandas in a future version. Use pandas.concat instead.\n",
      "  components = components.append(new_comp)\n",
      "C:\\Users\\mrsur\\anaconda3\\lib\\site-packages\\fbprophet\\forecaster.py:891: FutureWarning: The frame.append method is deprecated and will be removed from pandas in a future version. Use pandas.concat instead.\n",
      "  components = components.append(new_comp)\n"
     ]
    },
    {
     "data": {
      "text/html": [
       "<div>\n",
       "<style scoped>\n",
       "    .dataframe tbody tr th:only-of-type {\n",
       "        vertical-align: middle;\n",
       "    }\n",
       "\n",
       "    .dataframe tbody tr th {\n",
       "        vertical-align: top;\n",
       "    }\n",
       "\n",
       "    .dataframe thead th {\n",
       "        text-align: right;\n",
       "    }\n",
       "</style>\n",
       "<table border=\"1\" class=\"dataframe\">\n",
       "  <thead>\n",
       "    <tr style=\"text-align: right;\">\n",
       "      <th></th>\n",
       "      <th>ds</th>\n",
       "      <th>trend</th>\n",
       "      <th>yhat_lower</th>\n",
       "      <th>yhat_upper</th>\n",
       "      <th>trend_lower</th>\n",
       "      <th>trend_upper</th>\n",
       "      <th>additive_terms</th>\n",
       "      <th>additive_terms_lower</th>\n",
       "      <th>additive_terms_upper</th>\n",
       "      <th>weekly</th>\n",
       "      <th>weekly_lower</th>\n",
       "      <th>weekly_upper</th>\n",
       "      <th>multiplicative_terms</th>\n",
       "      <th>multiplicative_terms_lower</th>\n",
       "      <th>multiplicative_terms_upper</th>\n",
       "      <th>yhat</th>\n",
       "    </tr>\n",
       "  </thead>\n",
       "  <tbody>\n",
       "    <tr>\n",
       "      <th>639</th>\n",
       "      <td>2022-01-25</td>\n",
       "      <td>3.741556e+07</td>\n",
       "      <td>3.257550e+07</td>\n",
       "      <td>4.271104e+07</td>\n",
       "      <td>3.254726e+07</td>\n",
       "      <td>4.270808e+07</td>\n",
       "      <td>-4500.009151</td>\n",
       "      <td>-4500.009151</td>\n",
       "      <td>-4500.009151</td>\n",
       "      <td>-4500.009151</td>\n",
       "      <td>-4500.009151</td>\n",
       "      <td>-4500.009151</td>\n",
       "      <td>0.0</td>\n",
       "      <td>0.0</td>\n",
       "      <td>0.0</td>\n",
       "      <td>3.741106e+07</td>\n",
       "    </tr>\n",
       "    <tr>\n",
       "      <th>640</th>\n",
       "      <td>2022-01-26</td>\n",
       "      <td>3.744772e+07</td>\n",
       "      <td>3.250556e+07</td>\n",
       "      <td>4.280292e+07</td>\n",
       "      <td>3.247307e+07</td>\n",
       "      <td>4.281520e+07</td>\n",
       "      <td>-1476.051093</td>\n",
       "      <td>-1476.051093</td>\n",
       "      <td>-1476.051093</td>\n",
       "      <td>-1476.051093</td>\n",
       "      <td>-1476.051093</td>\n",
       "      <td>-1476.051093</td>\n",
       "      <td>0.0</td>\n",
       "      <td>0.0</td>\n",
       "      <td>0.0</td>\n",
       "      <td>3.744624e+07</td>\n",
       "    </tr>\n",
       "    <tr>\n",
       "      <th>641</th>\n",
       "      <td>2022-01-27</td>\n",
       "      <td>3.747988e+07</td>\n",
       "      <td>3.242413e+07</td>\n",
       "      <td>4.294073e+07</td>\n",
       "      <td>3.240971e+07</td>\n",
       "      <td>4.295225e+07</td>\n",
       "      <td>796.005451</td>\n",
       "      <td>796.005451</td>\n",
       "      <td>796.005451</td>\n",
       "      <td>796.005451</td>\n",
       "      <td>796.005451</td>\n",
       "      <td>796.005451</td>\n",
       "      <td>0.0</td>\n",
       "      <td>0.0</td>\n",
       "      <td>0.0</td>\n",
       "      <td>3.748068e+07</td>\n",
       "    </tr>\n",
       "    <tr>\n",
       "      <th>642</th>\n",
       "      <td>2022-01-28</td>\n",
       "      <td>3.751204e+07</td>\n",
       "      <td>3.229898e+07</td>\n",
       "      <td>4.306140e+07</td>\n",
       "      <td>3.230701e+07</td>\n",
       "      <td>4.307983e+07</td>\n",
       "      <td>2374.351273</td>\n",
       "      <td>2374.351273</td>\n",
       "      <td>2374.351273</td>\n",
       "      <td>2374.351273</td>\n",
       "      <td>2374.351273</td>\n",
       "      <td>2374.351273</td>\n",
       "      <td>0.0</td>\n",
       "      <td>0.0</td>\n",
       "      <td>0.0</td>\n",
       "      <td>3.751442e+07</td>\n",
       "    </tr>\n",
       "    <tr>\n",
       "      <th>643</th>\n",
       "      <td>2022-01-29</td>\n",
       "      <td>3.754420e+07</td>\n",
       "      <td>3.222898e+07</td>\n",
       "      <td>4.314070e+07</td>\n",
       "      <td>3.222091e+07</td>\n",
       "      <td>4.318837e+07</td>\n",
       "      <td>3387.706076</td>\n",
       "      <td>3387.706076</td>\n",
       "      <td>3387.706076</td>\n",
       "      <td>3387.706076</td>\n",
       "      <td>3387.706076</td>\n",
       "      <td>3387.706076</td>\n",
       "      <td>0.0</td>\n",
       "      <td>0.0</td>\n",
       "      <td>0.0</td>\n",
       "      <td>3.754759e+07</td>\n",
       "    </tr>\n",
       "  </tbody>\n",
       "</table>\n",
       "</div>"
      ],
      "text/plain": [
       "            ds         trend    yhat_lower    yhat_upper   trend_lower  \\\n",
       "639 2022-01-25  3.741556e+07  3.257550e+07  4.271104e+07  3.254726e+07   \n",
       "640 2022-01-26  3.744772e+07  3.250556e+07  4.280292e+07  3.247307e+07   \n",
       "641 2022-01-27  3.747988e+07  3.242413e+07  4.294073e+07  3.240971e+07   \n",
       "642 2022-01-28  3.751204e+07  3.229898e+07  4.306140e+07  3.230701e+07   \n",
       "643 2022-01-29  3.754420e+07  3.222898e+07  4.314070e+07  3.222091e+07   \n",
       "\n",
       "      trend_upper  additive_terms  additive_terms_lower  additive_terms_upper  \\\n",
       "639  4.270808e+07    -4500.009151          -4500.009151          -4500.009151   \n",
       "640  4.281520e+07    -1476.051093          -1476.051093          -1476.051093   \n",
       "641  4.295225e+07      796.005451            796.005451            796.005451   \n",
       "642  4.307983e+07     2374.351273           2374.351273           2374.351273   \n",
       "643  4.318837e+07     3387.706076           3387.706076           3387.706076   \n",
       "\n",
       "          weekly  weekly_lower  weekly_upper  multiplicative_terms  \\\n",
       "639 -4500.009151  -4500.009151  -4500.009151                   0.0   \n",
       "640 -1476.051093  -1476.051093  -1476.051093                   0.0   \n",
       "641   796.005451    796.005451    796.005451                   0.0   \n",
       "642  2374.351273   2374.351273   2374.351273                   0.0   \n",
       "643  3387.706076   3387.706076   3387.706076                   0.0   \n",
       "\n",
       "     multiplicative_terms_lower  multiplicative_terms_upper          yhat  \n",
       "639                         0.0                         0.0  3.741106e+07  \n",
       "640                         0.0                         0.0  3.744624e+07  \n",
       "641                         0.0                         0.0  3.748068e+07  \n",
       "642                         0.0                         0.0  3.751442e+07  \n",
       "643                         0.0                         0.0  3.754759e+07  "
      ]
     },
     "execution_count": 16,
     "metadata": {},
     "output_type": "execute_result"
    }
   ],
   "source": [
    "future_dates = model.make_future_dataframe(periods = 90)\n",
    "prediction = model.predict(future_dates)\n",
    "prediction.tail()"
   ]
  },
  {
   "cell_type": "markdown",
   "id": "2d51a659",
   "metadata": {},
   "source": [
    "Plotting the data along with forecast"
   ]
  },
  {
   "cell_type": "code",
   "execution_count": 17,
   "id": "c5a972d0",
   "metadata": {},
   "outputs": [
    {
     "data": {
      "image/png": "[encoded data removed]",
      "text/plain": [
       "<Figure size 720x432 with 1 Axes>"
      ]
     },
     "execution_count": 17,
     "metadata": {},
     "output_type": "execute_result"
    },
    {
     "data": {
      "image/png": "[encoded data removed]",
      "text/plain": [
       "<Figure size 720x432 with 1 Axes>"
      ]
     },
     "metadata": {},
     "output_type": "display_data"
    }
   ],
   "source": [
    "model.plot(prediction)"
   ]
  },
  {
   "cell_type": "markdown",
   "id": "92e5db40",
   "metadata": {},
   "source": [
    "Dataset with future predictions"
   ]
  },
  {
   "cell_type": "code",
   "execution_count": 18,
   "id": "7d9ffd03",
   "metadata": {},
   "outputs": [
    {
     "data": {
      "text/html": [
       "<div>\n",
       "<style scoped>\n",
       "    .dataframe tbody tr th:only-of-type {\n",
       "        vertical-align: middle;\n",
       "    }\n",
       "\n",
       "    .dataframe tbody tr th {\n",
       "        vertical-align: top;\n",
       "    }\n",
       "\n",
       "    .dataframe thead th {\n",
       "        text-align: right;\n",
       "    }\n",
       "</style>\n",
       "<table border=\"1\" class=\"dataframe\">\n",
       "  <thead>\n",
       "    <tr style=\"text-align: right;\">\n",
       "      <th></th>\n",
       "      <th>ds</th>\n",
       "      <th>yhat</th>\n",
       "    </tr>\n",
       "  </thead>\n",
       "  <tbody>\n",
       "    <tr>\n",
       "      <th>0</th>\n",
       "      <td>2020-04-26</td>\n",
       "      <td>4.626656e+03</td>\n",
       "    </tr>\n",
       "    <tr>\n",
       "      <th>1</th>\n",
       "      <td>2020-04-27</td>\n",
       "      <td>4.248043e+03</td>\n",
       "    </tr>\n",
       "    <tr>\n",
       "      <th>2</th>\n",
       "      <td>2020-04-28</td>\n",
       "      <td>7.688086e+03</td>\n",
       "    </tr>\n",
       "    <tr>\n",
       "      <th>3</th>\n",
       "      <td>2020-04-29</td>\n",
       "      <td>1.568521e+04</td>\n",
       "    </tr>\n",
       "    <tr>\n",
       "      <th>4</th>\n",
       "      <td>2020-04-30</td>\n",
       "      <td>2.293043e+04</td>\n",
       "    </tr>\n",
       "    <tr>\n",
       "      <th>...</th>\n",
       "      <td>...</td>\n",
       "      <td>...</td>\n",
       "    </tr>\n",
       "    <tr>\n",
       "      <th>639</th>\n",
       "      <td>2022-01-25</td>\n",
       "      <td>3.741106e+07</td>\n",
       "    </tr>\n",
       "    <tr>\n",
       "      <th>640</th>\n",
       "      <td>2022-01-26</td>\n",
       "      <td>3.744624e+07</td>\n",
       "    </tr>\n",
       "    <tr>\n",
       "      <th>641</th>\n",
       "      <td>2022-01-27</td>\n",
       "      <td>3.748068e+07</td>\n",
       "    </tr>\n",
       "    <tr>\n",
       "      <th>642</th>\n",
       "      <td>2022-01-28</td>\n",
       "      <td>3.751442e+07</td>\n",
       "    </tr>\n",
       "    <tr>\n",
       "      <th>643</th>\n",
       "      <td>2022-01-29</td>\n",
       "      <td>3.754759e+07</td>\n",
       "    </tr>\n",
       "  </tbody>\n",
       "</table>\n",
       "<p>644 rows × 2 columns</p>\n",
       "</div>"
      ],
      "text/plain": [
       "            ds          yhat\n",
       "0   2020-04-26  4.626656e+03\n",
       "1   2020-04-27  4.248043e+03\n",
       "2   2020-04-28  7.688086e+03\n",
       "3   2020-04-29  1.568521e+04\n",
       "4   2020-04-30  2.293043e+04\n",
       "..         ...           ...\n",
       "639 2022-01-25  3.741106e+07\n",
       "640 2022-01-26  3.744624e+07\n",
       "641 2022-01-27  3.748068e+07\n",
       "642 2022-01-28  3.751442e+07\n",
       "643 2022-01-29  3.754759e+07\n",
       "\n",
       "[644 rows x 2 columns]"
      ]
     },
     "execution_count": 18,
     "metadata": {},
     "output_type": "execute_result"
    }
   ],
   "source": [
    "prediction[['ds','yhat']]"
   ]
  },
  {
   "cell_type": "markdown",
   "id": "49b4217b",
   "metadata": {},
   "source": [
    "Evaluating the model"
   ]
  },
  {
   "cell_type": "code",
   "execution_count": 19,
   "id": "66df47cc",
   "metadata": {},
   "outputs": [
    {
     "data": {
      "text/html": [
       "<div>\n",
       "<style scoped>\n",
       "    .dataframe tbody tr th:only-of-type {\n",
       "        vertical-align: middle;\n",
       "    }\n",
       "\n",
       "    .dataframe tbody tr th {\n",
       "        vertical-align: top;\n",
       "    }\n",
       "\n",
       "    .dataframe thead th {\n",
       "        text-align: right;\n",
       "    }\n",
       "</style>\n",
       "<table border=\"1\" class=\"dataframe\">\n",
       "  <thead>\n",
       "    <tr style=\"text-align: right;\">\n",
       "      <th></th>\n",
       "      <th>yhat</th>\n",
       "      <th>actual</th>\n",
       "    </tr>\n",
       "  </thead>\n",
       "  <tbody>\n",
       "    <tr>\n",
       "      <th>0</th>\n",
       "      <td>4.626656e+03</td>\n",
       "      <td>27890</td>\n",
       "    </tr>\n",
       "    <tr>\n",
       "      <th>1</th>\n",
       "      <td>4.248043e+03</td>\n",
       "      <td>29458</td>\n",
       "    </tr>\n",
       "    <tr>\n",
       "      <th>2</th>\n",
       "      <td>7.688086e+03</td>\n",
       "      <td>31360</td>\n",
       "    </tr>\n",
       "    <tr>\n",
       "      <th>3</th>\n",
       "      <td>1.568521e+04</td>\n",
       "      <td>33065</td>\n",
       "    </tr>\n",
       "    <tr>\n",
       "      <th>4</th>\n",
       "      <td>2.293043e+04</td>\n",
       "      <td>34867</td>\n",
       "    </tr>\n",
       "    <tr>\n",
       "      <th>...</th>\n",
       "      <td>...</td>\n",
       "      <td>...</td>\n",
       "    </tr>\n",
       "    <tr>\n",
       "      <th>549</th>\n",
       "      <td>3.451968e+07</td>\n",
       "      <td>34231243</td>\n",
       "    </tr>\n",
       "    <tr>\n",
       "      <th>550</th>\n",
       "      <td>3.455411e+07</td>\n",
       "      <td>34245550</td>\n",
       "    </tr>\n",
       "    <tr>\n",
       "      <th>551</th>\n",
       "      <td>3.458785e+07</td>\n",
       "      <td>34259765</td>\n",
       "    </tr>\n",
       "    <tr>\n",
       "      <th>552</th>\n",
       "      <td>3.462102e+07</td>\n",
       "      <td>34272705</td>\n",
       "    </tr>\n",
       "    <tr>\n",
       "      <th>553</th>\n",
       "      <td>3.465218e+07</td>\n",
       "      <td>34285612</td>\n",
       "    </tr>\n",
       "  </tbody>\n",
       "</table>\n",
       "<p>554 rows × 2 columns</p>\n",
       "</div>"
      ],
      "text/plain": [
       "             yhat    actual\n",
       "0    4.626656e+03     27890\n",
       "1    4.248043e+03     29458\n",
       "2    7.688086e+03     31360\n",
       "3    1.568521e+04     33065\n",
       "4    2.293043e+04     34867\n",
       "..            ...       ...\n",
       "549  3.451968e+07  34231243\n",
       "550  3.455411e+07  34245550\n",
       "551  3.458785e+07  34259765\n",
       "552  3.462102e+07  34272705\n",
       "553  3.465218e+07  34285612\n",
       "\n",
       "[554 rows x 2 columns]"
      ]
     },
     "execution_count": 19,
     "metadata": {},
     "output_type": "execute_result"
    }
   ],
   "source": [
    "propheteval = prediction[:554] #Initial dates\n",
    "propheteval = propheteval['yhat'] #Retreiving only yhat (predicted value)\n",
    "propheteval = pd.DataFrame(propheteval)\n",
    "propheteval['actual'] = data2['Confirmed'] #Appending actual values\n",
    "propheteval"
   ]
  },
  {
   "cell_type": "markdown",
   "id": "1a7f3019",
   "metadata": {},
   "source": [
    "Evaluation metrics"
   ]
  },
  {
   "cell_type": "code",
   "execution_count": 20,
   "id": "4022040e",
   "metadata": {},
   "outputs": [
    {
     "name": "stdout",
     "output_type": "stream",
     "text": [
      "Mean square error (MSE):  6918843068.859493\n",
      "R2-score: 0.9999529591489023\n"
     ]
    }
   ],
   "source": [
    "print(\"Mean square error (MSE): \" , np.mean((propheteval['actual'] - propheteval['yhat']) ** 2))\n",
    "print(\"R2-score:\" , r2_score(propheteval['actual'],propheteval['yhat'] ) )"
   ]
  },
  {
   "cell_type": "markdown",
   "id": "7f40df49",
   "metadata": {},
   "source": [
    "Model 2 Holt Winters model"
   ]
  },
  {
   "cell_type": "code",
   "execution_count": 21,
   "id": "7edcf5a9",
   "metadata": {},
   "outputs": [
    {
     "name": "stderr",
     "output_type": "stream",
     "text": [
      "<ipython-input-21-e04831e7cfee>:3: SettingWithCopyWarning: \n",
      "A value is trying to be set on a copy of a slice from a DataFrame\n",
      "\n",
      "See the caveats in the documentation: https://pandas.pydata.org/pandas-docs/stable/user_guide/indexing.html#returning-a-view-versus-a-copy\n",
      "  data3.drop(columns='Date',inplace = True)\n"
     ]
    },
    {
     "data": {
      "text/html": [
       "<div>\n",
       "<style scoped>\n",
       "    .dataframe tbody tr th:only-of-type {\n",
       "        vertical-align: middle;\n",
       "    }\n",
       "\n",
       "    .dataframe tbody tr th {\n",
       "        vertical-align: top;\n",
       "    }\n",
       "\n",
       "    .dataframe thead th {\n",
       "        text-align: right;\n",
       "    }\n",
       "</style>\n",
       "<table border=\"1\" class=\"dataframe\">\n",
       "  <thead>\n",
       "    <tr style=\"text-align: right;\">\n",
       "      <th></th>\n",
       "      <th>Confirmed</th>\n",
       "    </tr>\n",
       "    <tr>\n",
       "      <th>Date</th>\n",
       "      <th></th>\n",
       "    </tr>\n",
       "  </thead>\n",
       "  <tbody>\n",
       "    <tr>\n",
       "      <th>2020-04-26</th>\n",
       "      <td>27890</td>\n",
       "    </tr>\n",
       "    <tr>\n",
       "      <th>2020-04-27</th>\n",
       "      <td>29458</td>\n",
       "    </tr>\n",
       "    <tr>\n",
       "      <th>2020-04-28</th>\n",
       "      <td>31360</td>\n",
       "    </tr>\n",
       "    <tr>\n",
       "      <th>2020-04-29</th>\n",
       "      <td>33065</td>\n",
       "    </tr>\n",
       "    <tr>\n",
       "      <th>2020-04-30</th>\n",
       "      <td>34867</td>\n",
       "    </tr>\n",
       "    <tr>\n",
       "      <th>...</th>\n",
       "      <td>...</td>\n",
       "    </tr>\n",
       "    <tr>\n",
       "      <th>2021-10-27</th>\n",
       "      <td>34231243</td>\n",
       "    </tr>\n",
       "    <tr>\n",
       "      <th>2021-10-28</th>\n",
       "      <td>34245550</td>\n",
       "    </tr>\n",
       "    <tr>\n",
       "      <th>2021-10-29</th>\n",
       "      <td>34259765</td>\n",
       "    </tr>\n",
       "    <tr>\n",
       "      <th>2021-10-30</th>\n",
       "      <td>34272705</td>\n",
       "    </tr>\n",
       "    <tr>\n",
       "      <th>2021-10-31</th>\n",
       "      <td>34285612</td>\n",
       "    </tr>\n",
       "  </tbody>\n",
       "</table>\n",
       "<p>554 rows × 1 columns</p>\n",
       "</div>"
      ],
      "text/plain": [
       "            Confirmed\n",
       "Date                 \n",
       "2020-04-26      27890\n",
       "2020-04-27      29458\n",
       "2020-04-28      31360\n",
       "2020-04-29      33065\n",
       "2020-04-30      34867\n",
       "...               ...\n",
       "2021-10-27   34231243\n",
       "2021-10-28   34245550\n",
       "2021-10-29   34259765\n",
       "2021-10-30   34272705\n",
       "2021-10-31   34285612\n",
       "\n",
       "[554 rows x 1 columns]"
      ]
     },
     "execution_count": 21,
     "metadata": {},
     "output_type": "execute_result"
    }
   ],
   "source": [
    "data3.columns=['Date','Confirmed']\n",
    "data3.index = data3['Date']\n",
    "data3.drop(columns='Date',inplace = True)\n",
    "data3.parse_dates = True\n",
    "data3"
   ]
  },
  {
   "cell_type": "code",
   "execution_count": 22,
   "id": "8a65d61c",
   "metadata": {},
   "outputs": [
    {
     "data": {
      "text/plain": [
       "<AxesSubplot:title={'center':'Confirmed cases'}, xlabel='Date'>"
      ]
     },
     "execution_count": 22,
     "metadata": {},
     "output_type": "execute_result"
    },
    {
     "data": {
      "image/png": "[encoded data removed]",
      "text/plain": [
       "<Figure size 432x288 with 1 Axes>"
      ]
     },
     "metadata": {
      "needs_background": "light"
     },
     "output_type": "display_data"
    }
   ],
   "source": [
    "data3.plot(title='Confirmed cases')"
   ]
  },
  {
   "cell_type": "markdown",
   "id": "00f4a411",
   "metadata": {},
   "source": [
    "Checking seasonality of the data"
   ]
  },
  {
   "cell_type": "code",
   "execution_count": 23,
   "id": "afb347ed",
   "metadata": {},
   "outputs": [
    {
     "data": {
      "image/png": "[encoded data removed]",
      "text/plain": [
       "<Figure size 432x288 with 4 Axes>"
      ]
     },
     "metadata": {
      "needs_background": "light"
     },
     "output_type": "display_data"
    }
   ],
   "source": [
    "data3.dtypes\n",
    "decompose_result = seasonal_decompose(data3,model='multiplicative',period=7)\n",
    "decompose_result.plot();"
   ]
  },
  {
   "cell_type": "code",
   "execution_count": 24,
   "id": "eed2edc8",
   "metadata": {},
   "outputs": [],
   "source": [
    "from statsmodels.tsa.api import ExponentialSmoothing, SimpleExpSmoothing, Holt"
   ]
  },
  {
   "cell_type": "markdown",
   "id": "abdced80",
   "metadata": {},
   "source": [
    "Holt-Winters Double Exponential Smoothing\n",
    "\n",
    "HW2_ADD - Holt-Winters Double Exponential Smoothing (Additive)"
   ]
  },
  {
   "cell_type": "code",
   "execution_count": 25,
   "id": "c0a22392",
   "metadata": {},
   "outputs": [
    {
     "name": "stderr",
     "output_type": "stream",
     "text": [
      "C:\\Users\\mrsur\\anaconda3\\lib\\site-packages\\statsmodels\\tsa\\base\\tsa_model.py:524: ValueWarning: No frequency information was provided, so inferred frequency D will be used.\n",
      "  warnings.warn('No frequency information was'\n",
      "C:\\Users\\mrsur\\anaconda3\\lib\\site-packages\\statsmodels\\tsa\\holtwinters\\model.py:427: FutureWarning: After 0.13 initialization must be handled at model creation\n",
      "  warnings.warn(\n",
      "C:\\Users\\mrsur\\anaconda3\\lib\\site-packages\\statsmodels\\tsa\\holtwinters\\model.py:920: ConvergenceWarning: Optimization failed to converge. Check mle_retvals.\n",
      "  warnings.warn(\n",
      "<ipython-input-25-d383a0e45083>:1: SettingWithCopyWarning: \n",
      "A value is trying to be set on a copy of a slice from a DataFrame.\n",
      "Try using .loc[row_indexer,col_indexer] = value instead\n",
      "\n",
      "See the caveats in the documentation: https://pandas.pydata.org/pandas-docs/stable/user_guide/indexing.html#returning-a-view-versus-a-copy\n",
      "  data3['HW2_ADD'] = ExponentialSmoothing(data3['Confirmed'],trend='add',seasonal = 'add', seasonal_periods = 7).fit().fittedvalues\n"
     ]
    },
    {
     "data": {
      "image/png": "[encoded data removed]",
      "text/plain": [
       "<Figure size 432x288 with 1 Axes>"
      ]
     },
     "metadata": {
      "needs_background": "light"
     },
     "output_type": "display_data"
    }
   ],
   "source": [
    "data3['HW2_ADD'] = ExponentialSmoothing(data3['Confirmed'],trend='add',seasonal = 'add', seasonal_periods = 7).fit().fittedvalues\n",
    "data3[['Confirmed','HW2_ADD']].plot(title='Holt Winters Exponential Smoothing');"
   ]
  },
  {
   "cell_type": "markdown",
   "id": "a836fb16",
   "metadata": {},
   "source": [
    "Good match for these parameters and algorithm"
   ]
  },
  {
   "cell_type": "code",
   "execution_count": 26,
   "id": "0554f4fa",
   "metadata": {},
   "outputs": [
    {
     "data": {
      "text/plain": [
       "Date\n",
       "2020-04-26    3.068198e+04\n",
       "2020-04-27    2.979148e+04\n",
       "2020-04-28    3.128716e+04\n",
       "2020-04-29    3.304284e+04\n",
       "2020-04-30    3.486729e+04\n",
       "                  ...     \n",
       "2021-10-27    3.424180e+07\n",
       "2021-10-28    3.424820e+07\n",
       "2021-10-29    3.425676e+07\n",
       "2021-10-30    3.426768e+07\n",
       "2021-10-31    3.427870e+07\n",
       "Name: HW2_ADD, Length: 554, dtype: float64"
      ]
     },
     "execution_count": 26,
     "metadata": {},
     "output_type": "execute_result"
    }
   ],
   "source": [
    "data3['HW2_ADD'] #Predicted values"
   ]
  },
  {
   "cell_type": "markdown",
   "id": "dfc074e8",
   "metadata": {},
   "source": [
    "Fitting the model, forecasting for 3 months in the future and plotting"
   ]
  },
  {
   "cell_type": "code",
   "execution_count": 27,
   "id": "39b87464",
   "metadata": {},
   "outputs": [
    {
     "name": "stderr",
     "output_type": "stream",
     "text": [
      "C:\\Users\\mrsur\\anaconda3\\lib\\site-packages\\statsmodels\\tsa\\base\\tsa_model.py:524: ValueWarning: No frequency information was provided, so inferred frequency D will be used.\n",
      "  warnings.warn('No frequency information was'\n",
      "C:\\Users\\mrsur\\anaconda3\\lib\\site-packages\\statsmodels\\tsa\\holtwinters\\model.py:427: FutureWarning: After 0.13 initialization must be handled at model creation\n",
      "  warnings.warn(\n",
      "C:\\Users\\mrsur\\anaconda3\\lib\\site-packages\\statsmodels\\tsa\\holtwinters\\model.py:920: ConvergenceWarning: Optimization failed to converge. Check mle_retvals.\n",
      "  warnings.warn(\n",
      "C:\\Users\\mrsur\\anaconda3\\lib\\site-packages\\statsmodels\\tsa\\base\\tsa_model.py:132: FutureWarning: The 'freq' argument in Timestamp is deprecated and will be removed in a future version.\n",
      "  date_key = Timestamp(key, freq=base_index.freq)\n"
     ]
    },
    {
     "data": {
      "text/plain": [
       "Text(0.5, 1.0, 'COVID 19 Cases Prediction using Holt Winters')"
      ]
     },
     "execution_count": 27,
     "metadata": {},
     "output_type": "execute_result"
    },
    {
     "data": {
      "image/png": "[encoded data removed]",
      "text/plain": [
       "<Figure size 2000x500 with 1 Axes>"
      ]
     },
     "metadata": {
      "needs_background": "light"
     },
     "output_type": "display_data"
    }
   ],
   "source": [
    "fig = plt.figure(figsize=(20,5),dpi=100)\n",
    "fitted_model = ExponentialSmoothing(data3['Confirmed'],trend='add',seasonal = 'add',seasonal_periods = 7).fit()\n",
    "test_predictions = fitted_model.forecast(90)\n",
    "test_predictions.index = pd.date_range(start=\"2021-10-31\",periods = 90)\n",
    "test_predictions\n",
    "\n",
    "data3['Confirmed'].plot(legend=True,label='Actual')\n",
    "test_predictions.plot(legend=True,label='Predicted')\n",
    "plt.title('COVID 19 Cases Prediction using Holt Winters')"
   ]
  },
  {
   "cell_type": "markdown",
   "id": "757beaec",
   "metadata": {},
   "source": [
    "Dataset with future predictions"
   ]
  },
  {
   "cell_type": "code",
   "execution_count": 28,
   "id": "66e34963",
   "metadata": {},
   "outputs": [
    {
     "data": {
      "text/html": [
       "<div>\n",
       "<style scoped>\n",
       "    .dataframe tbody tr th:only-of-type {\n",
       "        vertical-align: middle;\n",
       "    }\n",
       "\n",
       "    .dataframe tbody tr th {\n",
       "        vertical-align: top;\n",
       "    }\n",
       "\n",
       "    .dataframe thead th {\n",
       "        text-align: right;\n",
       "    }\n",
       "</style>\n",
       "<table border=\"1\" class=\"dataframe\">\n",
       "  <thead>\n",
       "    <tr style=\"text-align: right;\">\n",
       "      <th></th>\n",
       "      <th>0</th>\n",
       "    </tr>\n",
       "  </thead>\n",
       "  <tbody>\n",
       "    <tr>\n",
       "      <th>2021-10-31</th>\n",
       "      <td>3.428824e+07</td>\n",
       "    </tr>\n",
       "    <tr>\n",
       "      <th>2021-11-01</th>\n",
       "      <td>3.430392e+07</td>\n",
       "    </tr>\n",
       "    <tr>\n",
       "      <th>2021-11-02</th>\n",
       "      <td>3.433199e+07</td>\n",
       "    </tr>\n",
       "    <tr>\n",
       "      <th>2021-11-03</th>\n",
       "      <td>3.436010e+07</td>\n",
       "    </tr>\n",
       "    <tr>\n",
       "      <th>2021-11-04</th>\n",
       "      <td>3.438514e+07</td>\n",
       "    </tr>\n",
       "    <tr>\n",
       "      <th>...</th>\n",
       "      <td>...</td>\n",
       "    </tr>\n",
       "    <tr>\n",
       "      <th>2022-01-24</th>\n",
       "      <td>3.587950e+07</td>\n",
       "    </tr>\n",
       "    <tr>\n",
       "      <th>2022-01-25</th>\n",
       "      <td>3.590757e+07</td>\n",
       "    </tr>\n",
       "    <tr>\n",
       "      <th>2022-01-26</th>\n",
       "      <td>3.593568e+07</td>\n",
       "    </tr>\n",
       "    <tr>\n",
       "      <th>2022-01-27</th>\n",
       "      <td>3.596072e+07</td>\n",
       "    </tr>\n",
       "    <tr>\n",
       "      <th>2022-01-28</th>\n",
       "      <td>3.597981e+07</td>\n",
       "    </tr>\n",
       "  </tbody>\n",
       "</table>\n",
       "<p>90 rows × 1 columns</p>\n",
       "</div>"
      ],
      "text/plain": [
       "                       0\n",
       "2021-10-31  3.428824e+07\n",
       "2021-11-01  3.430392e+07\n",
       "2021-11-02  3.433199e+07\n",
       "2021-11-03  3.436010e+07\n",
       "2021-11-04  3.438514e+07\n",
       "...                  ...\n",
       "2022-01-24  3.587950e+07\n",
       "2022-01-25  3.590757e+07\n",
       "2022-01-26  3.593568e+07\n",
       "2022-01-27  3.596072e+07\n",
       "2022-01-28  3.597981e+07\n",
       "\n",
       "[90 rows x 1 columns]"
      ]
     },
     "execution_count": 28,
     "metadata": {},
     "output_type": "execute_result"
    }
   ],
   "source": [
    "data = test_predictions.to_frame()\n",
    "data"
   ]
  },
  {
   "cell_type": "markdown",
   "id": "8e28b88d",
   "metadata": {},
   "source": [
    "Evaluating the model"
   ]
  },
  {
   "cell_type": "code",
   "execution_count": 29,
   "id": "91a94a54",
   "metadata": {},
   "outputs": [
    {
     "data": {
      "text/html": [
       "<div>\n",
       "<style scoped>\n",
       "    .dataframe tbody tr th:only-of-type {\n",
       "        vertical-align: middle;\n",
       "    }\n",
       "\n",
       "    .dataframe tbody tr th {\n",
       "        vertical-align: top;\n",
       "    }\n",
       "\n",
       "    .dataframe thead th {\n",
       "        text-align: right;\n",
       "    }\n",
       "</style>\n",
       "<table border=\"1\" class=\"dataframe\">\n",
       "  <thead>\n",
       "    <tr style=\"text-align: right;\">\n",
       "      <th></th>\n",
       "      <th>HW2_ADD</th>\n",
       "      <th>actual</th>\n",
       "    </tr>\n",
       "    <tr>\n",
       "      <th>Date</th>\n",
       "      <th></th>\n",
       "      <th></th>\n",
       "    </tr>\n",
       "  </thead>\n",
       "  <tbody>\n",
       "    <tr>\n",
       "      <th>2020-04-26</th>\n",
       "      <td>3.068198e+04</td>\n",
       "      <td>27890</td>\n",
       "    </tr>\n",
       "    <tr>\n",
       "      <th>2020-04-27</th>\n",
       "      <td>2.979148e+04</td>\n",
       "      <td>29458</td>\n",
       "    </tr>\n",
       "    <tr>\n",
       "      <th>2020-04-28</th>\n",
       "      <td>3.128716e+04</td>\n",
       "      <td>31360</td>\n",
       "    </tr>\n",
       "    <tr>\n",
       "      <th>2020-04-29</th>\n",
       "      <td>3.304284e+04</td>\n",
       "      <td>33065</td>\n",
       "    </tr>\n",
       "    <tr>\n",
       "      <th>2020-04-30</th>\n",
       "      <td>3.486729e+04</td>\n",
       "      <td>34867</td>\n",
       "    </tr>\n",
       "    <tr>\n",
       "      <th>...</th>\n",
       "      <td>...</td>\n",
       "      <td>...</td>\n",
       "    </tr>\n",
       "    <tr>\n",
       "      <th>2021-10-27</th>\n",
       "      <td>3.424180e+07</td>\n",
       "      <td>34231243</td>\n",
       "    </tr>\n",
       "    <tr>\n",
       "      <th>2021-10-28</th>\n",
       "      <td>3.424820e+07</td>\n",
       "      <td>34245550</td>\n",
       "    </tr>\n",
       "    <tr>\n",
       "      <th>2021-10-29</th>\n",
       "      <td>3.425676e+07</td>\n",
       "      <td>34259765</td>\n",
       "    </tr>\n",
       "    <tr>\n",
       "      <th>2021-10-30</th>\n",
       "      <td>3.426768e+07</td>\n",
       "      <td>34272705</td>\n",
       "    </tr>\n",
       "    <tr>\n",
       "      <th>2021-10-31</th>\n",
       "      <td>3.427870e+07</td>\n",
       "      <td>34285612</td>\n",
       "    </tr>\n",
       "  </tbody>\n",
       "</table>\n",
       "<p>554 rows × 2 columns</p>\n",
       "</div>"
      ],
      "text/plain": [
       "                 HW2_ADD    actual\n",
       "Date                              \n",
       "2020-04-26  3.068198e+04     27890\n",
       "2020-04-27  2.979148e+04     29458\n",
       "2020-04-28  3.128716e+04     31360\n",
       "2020-04-29  3.304284e+04     33065\n",
       "2020-04-30  3.486729e+04     34867\n",
       "...                  ...       ...\n",
       "2021-10-27  3.424180e+07  34231243\n",
       "2021-10-28  3.424820e+07  34245550\n",
       "2021-10-29  3.425676e+07  34259765\n",
       "2021-10-30  3.426768e+07  34272705\n",
       "2021-10-31  3.427870e+07  34285612\n",
       "\n",
       "[554 rows x 2 columns]"
      ]
     },
     "execution_count": 29,
     "metadata": {},
     "output_type": "execute_result"
    }
   ],
   "source": [
    "holteval = data3['HW2_ADD'] #Predicted values\n",
    "holteval = pd.DataFrame(holteval)\n",
    "holteval['actual'] = data3['Confirmed'] #Actual values\n",
    "holteval"
   ]
  },
  {
   "cell_type": "markdown",
   "id": "5a9bbae2",
   "metadata": {},
   "source": [
    "Evaluation metrics"
   ]
  },
  {
   "cell_type": "code",
   "execution_count": 30,
   "id": "a95d6436",
   "metadata": {},
   "outputs": [
    {
     "name": "stdout",
     "output_type": "stream",
     "text": [
      "Mean square error (MSE):  54611075.72333061\n",
      "R2-score: 0.9999996287021607\n"
     ]
    }
   ],
   "source": [
    "print(\"Mean square error (MSE): \" , np.mean((holteval['actual'] - holteval['HW2_ADD']) ** 2))\n",
    "print(\"R2-score:\" , r2_score(holteval['actual'],holteval['HW2_ADD'] ) )"
   ]
  },
  {
   "cell_type": "markdown",
   "id": "cd98f1ab",
   "metadata": {},
   "source": [
    "Conclusions\n",
    "\n",
    "From the above two models we can see\n",
    "\n",
    "Holt Winters model has a higher R^2 score hence indicating a better fit to the data\n",
    "\n",
    "Holt winters also has a lower mean squared error (MSE)\n",
    "\n",
    "Hence Holt Winters model is more accurate for predictions and forecasts"
   ]
  },
  {
   "cell_type": "code",
   "execution_count": null,
   "id": "37d2af32",
   "metadata": {},
   "outputs": [],
   "source": []
  }
 ],
 "metadata": {
  "kernelspec": {
   "display_name": "Python 3",
   "language": "python",
   "name": "python3"
  },
  "language_info": {
   "codemirror_mode": {
    "name": "ipython",
    "version": 3
   },
   "file_extension": ".py",
   "mimetype": "text/x-python",
   "name": "python",
   "nbconvert_exporter": "python",
   "pygments_lexer": "ipython3",
   "version": "3.8.8"
  }
 },
 "nbformat": 4,
 "nbformat_minor": 5
}
